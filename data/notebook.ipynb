{
 "metadata": {
  "kernelspec": {
   "display_name": ".NET (C#)",
   "language": "C#",
   "name": ".net-csharp"
  },
  "language_info": {
   "name": "C#"
  }
 },
 "cells": [
  {
   "cell_type": "markdown",
   "source": [
    "Install required packages"
   ],
   "metadata": {}
  },
  {
   "cell_type": "code",
   "execution_count": null,
   "source": [
    "#r \"nuget:Newtonsoft.Json, 13.0.1\"\r\n",
    "\r\n",
    "using System.Threading.Tasks;\r\n",
    "using System.IO;\r\n",
    "using Newtonsoft.Json;\r\n",
    "using Newtonsoft.Json.Linq;\r\n",
    "using System.Net;\r\n",
    "using System.Net.Http;"
   ],
   "outputs": [
    {
     "output_type": "display_data",
     "data": {
      "text/html": [
       "<div><div></div><div></div><div><strong>Installed Packages</strong><ul><li><span>Newtonsoft.Json, 13.0.1</span></li></ul></div></div>"
      ]
     },
     "metadata": {}
    }
   ],
   "metadata": {
    "dotnet_interactive": {
     "language": "csharp"
    }
   }
  },
  {
   "cell_type": "markdown",
   "source": [
    "Create record to hold data"
   ],
   "metadata": {}
  },
  {
   "cell_type": "code",
   "execution_count": null,
   "source": [
    "record City (\r\n",
    "    string Name,\r\n",
    "    string InseeCode,\r\n",
    "    int Population,\r\n",
    "    string Geometry,\r\n",
    "    string PostCode,\r\n",
    "    double Latitude,\r\n",
    "    double Longitude,\r\n",
    "    bool SruDeficit,\r\n",
    "    decimal SocialHousingRate,\r\n",
    "    int SocialHousingCount,\r\n",
    "    int SnlHousingCount\r\n",
    ");"
   ],
   "outputs": [],
   "metadata": {
    "dotnet_interactive": {
     "language": "csharp"
    }
   }
  },
  {
   "cell_type": "markdown",
   "source": [
    "Read the Data from GeoJSON cities file"
   ],
   "metadata": {}
  },
  {
   "cell_type": "code",
   "execution_count": null,
   "source": [
    "HttpClient client = new HttpClient();\r\n",
    "var endpoint = \"https://geo.api.gouv.fr/communes?codeRegion=11&fields=centre,contour,codesPostaux,population\";\r\n",
    "string response = await client.GetStringAsync(endpoint);\r\n",
    "\r\n",
    "JArray jsonRecords = JArray.Parse(response);\r\n",
    "\r\n",
    "Console.WriteLine(\"Number of cities json records : \");\r\n",
    "Console.WriteLine(jsonRecords.Count);\r\n"
   ],
   "outputs": [
    {
     "output_type": "stream",
     "name": "stdout",
     "text": [
      "Number of cities json records : \r\n",
      "1268\r\n"
     ]
    }
   ],
   "metadata": {
    "dotnet_interactive": {
     "language": "csharp"
    }
   }
  },
  {
   "cell_type": "markdown",
   "source": [
    "Read SRU Data"
   ],
   "metadata": {}
  },
  {
   "cell_type": "code",
   "execution_count": null,
   "source": [
    "JArray sruJsonRecords;\r\n",
    "using (StreamReader reader = File.OpenText(@\"bilan-sru-2020.json\"))\r\n",
    "{\r\n",
    "    sruJsonRecords = JToken.ReadFrom(new JsonTextReader(reader)) as JArray;\r\n",
    "}\r\n",
    "\r\n",
    "Console.WriteLine(\"Number of sru cities json records : \");\r\n",
    "Console.WriteLine(sruJsonRecords.Count);\r\n"
   ],
   "outputs": [
    {
     "output_type": "stream",
     "name": "stdout",
     "text": [
      "Number of sru cities json records : \r\n",
      "599\r\n"
     ]
    }
   ],
   "metadata": {
    "dotnet_interactive": {
     "language": "csharp"
    }
   }
  },
  {
   "cell_type": "markdown",
   "source": [
    "Read SNL housing data"
   ],
   "metadata": {}
  },
  {
   "cell_type": "code",
   "execution_count": null,
   "source": [
    "JArray snlJsonRecords;\r\n",
    "using (StreamReader reader = File.OpenText(@\"snl-housing-count.json\"))\r\n",
    "{\r\n",
    "    snlJsonRecords = JToken.ReadFrom(new JsonTextReader(reader)) as JArray;\r\n",
    "}\r\n",
    "\r\n",
    "Console.WriteLine(\"Number of SNL cities json records : \");\r\n",
    "Console.WriteLine(snlJsonRecords.Count);\r\n"
   ],
   "outputs": [
    {
     "output_type": "stream",
     "name": "stdout",
     "text": [
      "Number of SNL cities json records : \r\n",
      "117\r\n"
     ]
    }
   ],
   "metadata": {
    "dotnet_interactive": {
     "language": "csharp"
    }
   }
  },
  {
   "cell_type": "markdown",
   "source": [
    "Mapping to city data"
   ],
   "metadata": {}
  },
  {
   "cell_type": "code",
   "execution_count": null,
   "source": [
    "var result = jsonRecords.Select(jsonRecord => {\r\n",
    "    JObject record = jsonRecord as JObject;\r\n",
    "\r\n",
    "    string cityName = record[\"nom\"].ToString();\r\n",
    "    string inseeCode = record[\"code\"].ToString();\r\n",
    "    int population = Int32.Parse(record[\"population\"].ToString());\r\n",
    "    string geometry = record[\"contour\"].ToString(Formatting.None);\r\n",
    "    string postCode = string.Join( \",\",(record[\"codesPostaux\"] as JArray).Select(elt => elt.ToString()));\r\n",
    "    double latitude = Double.Parse(record[\"centre\"][\"coordinates\"][1].ToString());\r\n",
    "    double longitude = Double.Parse(record[\"centre\"][\"coordinates\"][0].ToString());\r\n",
    "\r\n",
    "    JObject sruRecord = sruJsonRecords.FirstOrDefault(record => (record as JObject)[\"Code INSEE\"].ToString() == inseeCode) as JObject;\r\n",
    "\r\n",
    "    bool found = sruRecord != null;\r\n",
    "\r\n",
    "    bool sruDeficit = found ? sruRecord[\"Commune déficitaire\"].ToString() == \"OUI\" : false;\r\n",
    "\r\n",
    "    decimal socialHousingRate = found ?\r\n",
    "        Decimal.Parse(\r\n",
    "            sruRecord[\"Taux LLS au 1er janvier 2019\"]\r\n",
    "            .ToString()\r\n",
    "            .Replace(\"%\",\"\")\r\n",
    "            .Trim()) \r\n",
    "        :\r\n",
    "        -1;\r\n",
    "    int socialHousingCount = found ? Int32.Parse(sruRecord[\"Total LLS\"].ToString()) : -1;\r\n",
    "    \r\n",
    "    JObject snlRecord = snlJsonRecords.FirstOrDefault(record => (cityName == \"Paris\" ? \"75000\" : postCode) == record[\"postCode\"].ToString()) as JObject;\r\n",
    "\r\n",
    "    int snlHousingCount = snlRecord == null ? 0 :  Int32.Parse(snlRecord[\"snlHousingCount\"].ToString());\r\n",
    "\r\n",
    "    return new City(\r\n",
    "        cityName, \r\n",
    "        inseeCode, \r\n",
    "        population,\r\n",
    "        geometry,\r\n",
    "        postCode, \r\n",
    "        latitude, \r\n",
    "        longitude,\r\n",
    "        sruDeficit,\r\n",
    "        socialHousingRate,\r\n",
    "        socialHousingCount,\r\n",
    "        snlHousingCount\r\n",
    "    );\r\n",
    "});\r\n"
   ],
   "outputs": [],
   "metadata": {
    "dotnet_interactive": {
     "language": "csharp"
    }
   }
  },
  {
   "cell_type": "markdown",
   "source": [
    "Export to CSV"
   ],
   "metadata": {}
  },
  {
   "cell_type": "code",
   "execution_count": null,
   "source": [
    "List<string> csvLines = new List<string> { \"City Name;Insee Code;Population;Geometry;PostCode;Latitude;Longitude;Sru Deficit;Social Housing Rate;Social Housing Count;SNL Housing Count\" };\r\n",
    "csvLines.AddRange(result.Select((city) => $\"{city.Name};{city.InseeCode};{city.Population};{city.Geometry};{city.PostCode};{city.Latitude};{city.Longitude};{city.SruDeficit};{city.SocialHousingRate};{city.SocialHousingCount};{city.SnlHousingCount}\"));\r\n",
    "await File.WriteAllLinesAsync(\"cities.csv\", csvLines);"
   ],
   "outputs": [],
   "metadata": {
    "dotnet_interactive": {
     "language": "csharp"
    }
   }
  }
 ],
 "nbformat": 4,
 "nbformat_minor": 2
}